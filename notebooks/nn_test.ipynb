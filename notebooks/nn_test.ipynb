{
 "cells": [
  {
   "cell_type": "markdown",
   "id": "9bff6c58",
   "metadata": {},
   "source": [
    "# Testing Neural Network Model"
   ]
  },
  {
   "cell_type": "code",
   "execution_count": null,
   "id": "40763c99",
   "metadata": {},
   "outputs": [],
   "source": [
    "#imports\n",
    "import pandas as pd \n",
    "import numpy as np \n",
    "import joblib \n",
    "from tensorflow.keras.models import load_model\n",
    "from tensorflow.keras.utils import to_categorical\n",
    "from tensorflow.keras.preprocessing.sequence import pad_sequences"
   ]
  },
  {
   "cell_type": "code",
   "execution_count": null,
   "id": "99596981",
   "metadata": {},
   "outputs": [
    {
     "name": "stderr",
     "output_type": "stream",
     "text": [
      "WARNING:absl:Compiled the loaded model, but the compiled metrics have yet to be built. `model.compile_metrics` will be empty until you train or evaluate the model.\n"
     ]
    }
   ],
   "source": [
    "model_path = \"../models/nn_genre_model_1.h5\"    #Replace with diff. nn models\n",
    "tokenzier_path = \"../models/tokenizer.pkl\"\n",
    "encoder_path = \"../models/label_encoder.pkl\"\n",
    "\n",
    "model = load_model(model_path)\n",
    "tokenizer = joblib.load(tokenzier_path)\n",
    "label_encoder = joblib.load(encoder_path)"
   ]
  },
  {
   "cell_type": "markdown",
   "id": "d1df75d7",
   "metadata": {},
   "source": [
    "# Test on Singular Example"
   ]
  },
  {
   "cell_type": "code",
   "execution_count": 3,
   "id": "973045d6",
   "metadata": {},
   "outputs": [
    {
     "name": "stdout",
     "output_type": "stream",
     "text": [
      "\u001b[1m1/1\u001b[0m \u001b[32m━━━━━━━━━━━━━━━━━━━━\u001b[0m\u001b[37m\u001b[0m \u001b[1m0s\u001b[0m 398ms/step\n",
      "Input: A young boy discovers he has magical powers and attends a wizarding school.\n",
      "Predicted genre: family\n"
     ]
    }
   ],
   "source": [
    "max_len = 200\n",
    "\n",
    "sample_text = \"A young boy discovers he has magical powers and attends a wizarding school.\"\n",
    "\n",
    "# Convert to sequence\n",
    "seq = tokenizer.texts_to_sequences([sample_text])\n",
    "padded = pad_sequences(seq, maxlen=max_len, padding=\"post\", truncating=\"post\")\n",
    "\n",
    "# Predict\n",
    "pred = model.predict(padded)\n",
    "predicted_class = np.argmax(pred, axis=1)\n",
    "predicted_genre = label_encoder.inverse_transform(predicted_class)\n",
    "\n",
    "print(\"Input:\", sample_text)\n",
    "print(\"Predicted genre:\", predicted_genre[0])"
   ]
  },
  {
   "cell_type": "markdown",
   "id": "2e34b272",
   "metadata": {},
   "source": [
    "# Test on test.csv"
   ]
  },
  {
   "cell_type": "code",
   "execution_count": 4,
   "id": "e2836d6f",
   "metadata": {},
   "outputs": [],
   "source": [
    "test_df = pd.read_csv(\"../clean_data/test.csv\")\n",
    "X_test = test_df[\"cleaned_synopsis\"]\n",
    "y_test = test_df[\"genre\"]"
   ]
  },
  {
   "cell_type": "code",
   "execution_count": 5,
   "id": "5d394343",
   "metadata": {},
   "outputs": [],
   "source": [
    "#convert to sequence / tokenize & pad \n",
    "X_test_seq = tokenizer.texts_to_sequences(X_test)\n",
    "X_test_pad = pad_sequences(X_test_seq, maxlen=max_len, padding=\"post\", truncating=\"post\")\n",
    "\n",
    "#encode \n",
    "y_test_enc = to_categorical(label_encoder.transform(y_test))"
   ]
  },
  {
   "cell_type": "code",
   "execution_count": 6,
   "id": "b80d2188",
   "metadata": {},
   "outputs": [
    {
     "name": "stdout",
     "output_type": "stream",
     "text": [
      "\u001b[1m254/254\u001b[0m \u001b[32m━━━━━━━━━━━━━━━━━━━━\u001b[0m\u001b[37m\u001b[0m \u001b[1m5s\u001b[0m 18ms/step - accuracy: 0.2258 - loss: 5.9391\n",
      "Test Loss: 5.980488300323486\n",
      "Test Accuracy: 0.2285185158252716\n"
     ]
    }
   ],
   "source": [
    "loss, accuracy = model.evaluate(X_test_pad, y_test_enc)\n",
    "print(\"Test Loss:\", loss)\n",
    "print(\"Test Accuracy:\", accuracy)"
   ]
  },
  {
   "cell_type": "code",
   "execution_count": 8,
   "id": "03c9df6d",
   "metadata": {},
   "outputs": [
    {
     "name": "stdout",
     "output_type": "stream",
     "text": [
      "genre\n",
      "fantasy      0.100005\n",
      "adventure    0.100005\n",
      "thriller     0.100005\n",
      "crime        0.100005\n",
      "scifi        0.100005\n",
      "horror       0.100005\n",
      "romance      0.100005\n",
      "action       0.100005\n",
      "mystery      0.099979\n",
      "family       0.099979\n",
      "Name: proportion, dtype: float64\n",
      "genre\n",
      "scifi        0.1\n",
      "mystery      0.1\n",
      "crime        0.1\n",
      "adventure    0.1\n",
      "fantasy      0.1\n",
      "romance      0.1\n",
      "family       0.1\n",
      "action       0.1\n",
      "thriller     0.1\n",
      "horror       0.1\n",
      "Name: proportion, dtype: float64\n"
     ]
    }
   ],
   "source": [
    "train_df = pd.read_csv(\"../clean_data/train.csv\")\n",
    "X_train = train_df[\"cleaned_synopsis\"]\n",
    "y_train = train_df[\"genre\"]\n",
    "\n",
    "print(y_train.value_counts(normalize=True))\n",
    "print(y_test.value_counts(normalize=True))"
   ]
  },
  {
   "cell_type": "code",
   "execution_count": null,
   "id": "93247dc7",
   "metadata": {},
   "outputs": [],
   "source": []
  }
 ],
 "metadata": {
  "kernelspec": {
   "display_name": "Python 3",
   "language": "python",
   "name": "python3"
  },
  "language_info": {
   "codemirror_mode": {
    "name": "ipython",
    "version": 3
   },
   "file_extension": ".py",
   "mimetype": "text/x-python",
   "name": "python",
   "nbconvert_exporter": "python",
   "pygments_lexer": "ipython3",
   "version": "3.12.7"
  }
 },
 "nbformat": 4,
 "nbformat_minor": 5
}
