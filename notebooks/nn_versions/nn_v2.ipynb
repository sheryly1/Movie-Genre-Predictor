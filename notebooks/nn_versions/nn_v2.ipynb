{
 "cells": [
  {
   "cell_type": "markdown",
   "id": "d0d99d53",
   "metadata": {},
   "source": [
    "# Version 2 Neural Network (Regularization & Early Stopping)"
   ]
  },
  {
   "cell_type": "code",
   "execution_count": 1,
   "id": "71b0caf2",
   "metadata": {},
   "outputs": [],
   "source": [
    "# imports \n",
    "import os\n",
    "import joblib\n",
    "import pandas as pd \n",
    "from sklearn.preprocessing import LabelEncoder\n",
    "from tensorflow.keras.utils import to_categorical\n",
    "from tensorflow.keras.preprocessing.text import Tokenizer\n",
    "from tensorflow.keras.preprocessing.sequence import pad_sequences\n",
    "from tensorflow.keras import regularizers\n",
    "from tensorflow.keras.models import Sequential \n",
    "from tensorflow.keras.layers import Embedding, GlobalAveragePooling1D, Dense, Dropout, Bidirectional, LSTM, BatchNormalization\n",
    "from keras.callbacks import EarlyStopping"
   ]
  },
  {
   "cell_type": "code",
   "execution_count": 4,
   "id": "eda7c7d1",
   "metadata": {},
   "outputs": [],
   "source": [
    "# load preprocessed data \n",
    "train_df = pd.read_csv(\"../../clean_data/train.csv\")\n",
    "val_df = pd.read_csv(\"../../clean_data/val.csv\")\n",
    "\n",
    "X_train = train_df[\"cleaned_synopsis\"].values\n",
    "y_train = train_df[\"genre\"].values\n",
    "X_val = val_df[\"cleaned_synopsis\"].values\n",
    "y_val = val_df[\"genre\"].values"
   ]
  },
  {
   "cell_type": "code",
   "execution_count": 7,
   "id": "0c92bf72",
   "metadata": {},
   "outputs": [],
   "source": [
    "#Tokenize\n",
    "max_words = 10000  # vocabulary size\n",
    "max_len = 200      # max sequence length\n",
    "\n",
    "tokenizer = Tokenizer(num_words=max_words, oov_token=\"<OOV>\")\n",
    "tokenizer.fit_on_texts(X_train)\n",
    "\n",
    "joblib.dump(tokenizer, \"../../models/tokenizer.pkl\")\n",
    "\n",
    "X_train_seq = tokenizer.texts_to_sequences(X_train)\n",
    "X_val_seq = tokenizer.texts_to_sequences(X_val)\n",
    "\n",
    "X_train_pad = pad_sequences(X_train_seq, maxlen=max_len, padding=\"post\", truncating=\"post\") #post to keep beginning of sentence rather than end \n",
    "X_val_pad = pad_sequences(X_val_seq, maxlen=max_len, padding=\"post\", truncating=\"post\")"
   ]
  },
  {
   "cell_type": "code",
   "execution_count": 5,
   "id": "9821cbb9",
   "metadata": {},
   "outputs": [
    {
     "data": {
      "text/plain": [
       "['../../models/label_encoder.pkl']"
      ]
     },
     "execution_count": 5,
     "metadata": {},
     "output_type": "execute_result"
    }
   ],
   "source": [
    "# Encode the data \n",
    "\n",
    "label_encoder = LabelEncoder()\n",
    "y_train_enc = to_categorical(label_encoder.fit_transform(y_train))\n",
    "y_val_enc = to_categorical(label_encoder.transform(y_val))\n",
    "\n",
    "joblib.dump(label_encoder, \"../../models/label_encoder.pkl\")"
   ]
  },
  {
   "cell_type": "code",
   "execution_count": 8,
   "id": "cfd28d59",
   "metadata": {},
   "outputs": [
    {
     "name": "stderr",
     "output_type": "stream",
     "text": [
      "c:\\Users\\shery\\AppData\\Local\\Programs\\Python\\Python312\\Lib\\site-packages\\keras\\src\\layers\\core\\embedding.py:97: UserWarning: Argument `input_length` is deprecated. Just remove it.\n",
      "  warnings.warn(\n"
     ]
    }
   ],
   "source": [
    "vocab_size = 10000   # how many unique words you let tokenizer keep\n",
    "embedding_dim = 128   # size of word vector embeddings \n",
    "num_classes = y_train_enc.shape[1] # number of genres\n",
    "\n",
    "model = Sequential()\n",
    "model.add(Embedding(input_dim=vocab_size, output_dim=embedding_dim, input_length=max_len))\n",
    "model.add(Bidirectional(LSTM(32))) #reduced LSTM size from 64 -> 32 \n",
    "model.add(Dropout(0.35))\n",
    "model.add(Dense(32, activation=\"relu\", kernel_regularizer=regularizers.l2(0.02))) #added L2 regularizers & reduced layer size from 64 -> 32\n",
    "model.add(BatchNormalization()) #batch normalization \n",
    "model.add(Dropout(0.35))\n",
    "model.add(Dense(num_classes, activation='softmax'))\n",
    "\n",
    "model.compile(optimizer=\"adam\", loss=\"categorical_crossentropy\", metrics=[\"accuracy\"])"
   ]
  },
  {
   "cell_type": "code",
   "execution_count": null,
   "id": "468697cc",
   "metadata": {},
   "outputs": [],
   "source": [
    "#implement early stopping for version 2 \n",
    "early_stop = EarlyStopping(\n",
    "    monitor=\"val_loss\",   #what stat to look at     \n",
    "    patience=3,           #when it stops updating after 3 epochs \n",
    "    restore_best_weights=True  #go back to best weights :D\n",
    ")"
   ]
  },
  {
   "cell_type": "code",
   "execution_count": null,
   "id": "08881085",
   "metadata": {},
   "outputs": [],
   "source": [
    "model.fit(\n",
    "    X_train_pad, y_train_enc,\n",
    "    validation_data=(X_val_pad, y_val_enc),\n",
    "    epochs=20,     # from 30 -> 20      \n",
    "    batch_size=16, \n",
    "    callbacks=[early_stop]  #add early stopping in version 2\n",
    ")\n"
   ]
  },
  {
   "cell_type": "code",
   "execution_count": null,
   "id": "2e648b72",
   "metadata": {},
   "outputs": [],
   "source": [
    "#save model\n",
    "os.makedirs(\"../../models\", exist_ok=True)\n",
    "model.save(\"../../models/nn_genre_model_2.h5\")"
   ]
  }
 ],
 "metadata": {
  "kernelspec": {
   "display_name": "Python 3",
   "language": "python",
   "name": "python3"
  },
  "language_info": {
   "codemirror_mode": {
    "name": "ipython",
    "version": 3
   },
   "file_extension": ".py",
   "mimetype": "text/x-python",
   "name": "python",
   "nbconvert_exporter": "python",
   "pygments_lexer": "ipython3",
   "version": "3.12.7"
  }
 },
 "nbformat": 4,
 "nbformat_minor": 5
}
